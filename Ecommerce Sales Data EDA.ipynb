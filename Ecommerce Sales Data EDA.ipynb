{
 "cells": [
  {
   "cell_type": "markdown",
   "metadata": {},
   "source": [
    "In this notebook several questions will be investigated and answered, using a fashion retailer's e-commerce sales data. This retailer's focus is on menswear and providing high-quality and well-fitted t-shirts, trousers, jeans and shorts to men. Dataset represents real sales data between November 1st, 2018 - April 30th, 2019 and it is pseudonymized for confidentiality. Analysis is done with the following libraries:\n",
    "\n",
    "pandas\n",
    "\n",
    "seaborn\n",
    "\n",
    "matplotlib\n",
    "\n",
    "ipywidgets"
   ]
  },
  {
   "cell_type": "markdown",
   "metadata": {},
   "source": [
    "information on gross sales and net sales:\n",
    "    https://www.accountingtools.com/articles/what-is-the-difference-between-gross-sales-and-net-sales.html"
   ]
  },
  {
   "cell_type": "code",
   "execution_count": 1,
   "metadata": {},
   "outputs": [],
   "source": [
    "# data wrangling\n",
    "import pandas as pd\n",
    "import numpy as np\n",
    "\n",
    "# visualization\n",
    "import seaborn as sns\n",
    "import matplotlib.pyplot as plt\n",
    "\n",
    "# for interactive graphs\n",
    "from ipywidgets import interact, interact_manual\n",
    "import ipywidgets as widgets\n",
    "\n",
    "%matplotlib inline\n",
    "# to include graphs inline within the frontends next to code\n",
    "\n",
    "%config InlineBackend.figure_format='retina'\n",
    "#to enable retina (high resolution) plots"
   ]
  },
  {
   "cell_type": "code",
   "execution_count": 2,
   "metadata": {},
   "outputs": [
    {
     "data": {
      "text/html": [
       "<div>\n",
       "<style scoped>\n",
       "    .dataframe tbody tr th:only-of-type {\n",
       "        vertical-align: middle;\n",
       "    }\n",
       "\n",
       "    .dataframe tbody tr th {\n",
       "        vertical-align: top;\n",
       "    }\n",
       "\n",
       "    .dataframe thead th {\n",
       "        text-align: right;\n",
       "    }\n",
       "</style>\n",
       "<table border=\"1\" class=\"dataframe\">\n",
       "  <thead>\n",
       "    <tr style=\"text-align: right;\">\n",
       "      <th></th>\n",
       "      <th>product_title</th>\n",
       "      <th>product_type</th>\n",
       "      <th>variant_title</th>\n",
       "      <th>variant_sku</th>\n",
       "      <th>variant_id</th>\n",
       "      <th>customer_id</th>\n",
       "      <th>order_id</th>\n",
       "      <th>day</th>\n",
       "      <th>net_quantity</th>\n",
       "      <th>gross_sales</th>\n",
       "      <th>discounts</th>\n",
       "      <th>returns</th>\n",
       "      <th>net_sales</th>\n",
       "      <th>taxes</th>\n",
       "      <th>total_sales</th>\n",
       "      <th>returned_item_quantity</th>\n",
       "      <th>ordered_item_quantity</th>\n",
       "    </tr>\n",
       "  </thead>\n",
       "  <tbody>\n",
       "    <tr>\n",
       "      <th>0</th>\n",
       "      <td>DPR</td>\n",
       "      <td>DPR</td>\n",
       "      <td>100</td>\n",
       "      <td>AD-982-708-895-F-6C894FB</td>\n",
       "      <td>52039657</td>\n",
       "      <td>1312378</td>\n",
       "      <td>83290718932496</td>\n",
       "      <td>04/12/2018</td>\n",
       "      <td>2</td>\n",
       "      <td>200.0</td>\n",
       "      <td>-200.00</td>\n",
       "      <td>0.00</td>\n",
       "      <td>0.0</td>\n",
       "      <td>0.0</td>\n",
       "      <td>0.0</td>\n",
       "      <td>0</td>\n",
       "      <td>2</td>\n",
       "    </tr>\n",
       "    <tr>\n",
       "      <th>1</th>\n",
       "      <td>RJF</td>\n",
       "      <td>Product P</td>\n",
       "      <td>28 / A / MTM</td>\n",
       "      <td>83-490-E49-8C8-8-3B100BC</td>\n",
       "      <td>56914686</td>\n",
       "      <td>3715657</td>\n",
       "      <td>36253792848113</td>\n",
       "      <td>01/04/2019</td>\n",
       "      <td>2</td>\n",
       "      <td>190.0</td>\n",
       "      <td>-190.00</td>\n",
       "      <td>0.00</td>\n",
       "      <td>0.0</td>\n",
       "      <td>0.0</td>\n",
       "      <td>0.0</td>\n",
       "      <td>0</td>\n",
       "      <td>2</td>\n",
       "    </tr>\n",
       "    <tr>\n",
       "      <th>2</th>\n",
       "      <td>CLH</td>\n",
       "      <td>Product B</td>\n",
       "      <td>32 / B / FtO</td>\n",
       "      <td>68-ECA-BC7-3B2-A-E73DE1B</td>\n",
       "      <td>24064862</td>\n",
       "      <td>9533448</td>\n",
       "      <td>73094559597229</td>\n",
       "      <td>05/11/2018</td>\n",
       "      <td>0</td>\n",
       "      <td>164.8</td>\n",
       "      <td>-156.56</td>\n",
       "      <td>-8.24</td>\n",
       "      <td>0.0</td>\n",
       "      <td>0.0</td>\n",
       "      <td>0.0</td>\n",
       "      <td>-2</td>\n",
       "      <td>2</td>\n",
       "    </tr>\n",
       "    <tr>\n",
       "      <th>3</th>\n",
       "      <td>NMA</td>\n",
       "      <td>Product F</td>\n",
       "      <td>40 / B / FtO</td>\n",
       "      <td>6C-1F1-226-1B3-2-3542B41</td>\n",
       "      <td>43823868</td>\n",
       "      <td>4121004</td>\n",
       "      <td>53616575668264</td>\n",
       "      <td>19/02/2019</td>\n",
       "      <td>1</td>\n",
       "      <td>119.0</td>\n",
       "      <td>-119.00</td>\n",
       "      <td>0.00</td>\n",
       "      <td>0.0</td>\n",
       "      <td>0.0</td>\n",
       "      <td>0.0</td>\n",
       "      <td>0</td>\n",
       "      <td>1</td>\n",
       "    </tr>\n",
       "    <tr>\n",
       "      <th>4</th>\n",
       "      <td>NMA</td>\n",
       "      <td>Product F</td>\n",
       "      <td>40 / B / FtO</td>\n",
       "      <td>6C-1F1-226-1B3-2-3542B41</td>\n",
       "      <td>43823868</td>\n",
       "      <td>4121004</td>\n",
       "      <td>29263220319421</td>\n",
       "      <td>19/02/2019</td>\n",
       "      <td>1</td>\n",
       "      <td>119.0</td>\n",
       "      <td>-119.00</td>\n",
       "      <td>0.00</td>\n",
       "      <td>0.0</td>\n",
       "      <td>0.0</td>\n",
       "      <td>0.0</td>\n",
       "      <td>0</td>\n",
       "      <td>1</td>\n",
       "    </tr>\n",
       "    <tr>\n",
       "      <th>5</th>\n",
       "      <td>OTH</td>\n",
       "      <td>Product F</td>\n",
       "      <td>40 / B / FtO</td>\n",
       "      <td>53-5CA-7CF-8F5-9-28CB78B</td>\n",
       "      <td>43823868</td>\n",
       "      <td>4121004</td>\n",
       "      <td>53616575668264</td>\n",
       "      <td>19/02/2019</td>\n",
       "      <td>1</td>\n",
       "      <td>119.0</td>\n",
       "      <td>-119.00</td>\n",
       "      <td>0.00</td>\n",
       "      <td>0.0</td>\n",
       "      <td>0.0</td>\n",
       "      <td>0.0</td>\n",
       "      <td>0</td>\n",
       "      <td>1</td>\n",
       "    </tr>\n",
       "    <tr>\n",
       "      <th>6</th>\n",
       "      <td>OTH</td>\n",
       "      <td>Product F</td>\n",
       "      <td>40 / B / FtO</td>\n",
       "      <td>53-5CA-7CF-8F5-9-28CB78B</td>\n",
       "      <td>43823868</td>\n",
       "      <td>4121004</td>\n",
       "      <td>29263220319421</td>\n",
       "      <td>19/02/2019</td>\n",
       "      <td>1</td>\n",
       "      <td>119.0</td>\n",
       "      <td>-119.00</td>\n",
       "      <td>0.00</td>\n",
       "      <td>0.0</td>\n",
       "      <td>0.0</td>\n",
       "      <td>0.0</td>\n",
       "      <td>0</td>\n",
       "      <td>1</td>\n",
       "    </tr>\n",
       "    <tr>\n",
       "      <th>7</th>\n",
       "      <td>NMA</td>\n",
       "      <td>Product F</td>\n",
       "      <td>40 / B / FtO</td>\n",
       "      <td>6C-1F1-226-1B3-2-3542B41</td>\n",
       "      <td>43823868</td>\n",
       "      <td>4121004</td>\n",
       "      <td>13666410519728</td>\n",
       "      <td>20/02/2019</td>\n",
       "      <td>1</td>\n",
       "      <td>119.0</td>\n",
       "      <td>-119.00</td>\n",
       "      <td>0.00</td>\n",
       "      <td>0.0</td>\n",
       "      <td>0.0</td>\n",
       "      <td>0.0</td>\n",
       "      <td>0</td>\n",
       "      <td>1</td>\n",
       "    </tr>\n",
       "    <tr>\n",
       "      <th>8</th>\n",
       "      <td>OTH</td>\n",
       "      <td>Product F</td>\n",
       "      <td>40 / C / FtO</td>\n",
       "      <td>8B-2C5-548-6C6-E-B5EECBC</td>\n",
       "      <td>43823868</td>\n",
       "      <td>4121004</td>\n",
       "      <td>80657249973427</td>\n",
       "      <td>22/02/2019</td>\n",
       "      <td>1</td>\n",
       "      <td>119.0</td>\n",
       "      <td>-119.00</td>\n",
       "      <td>0.00</td>\n",
       "      <td>0.0</td>\n",
       "      <td>0.0</td>\n",
       "      <td>0.0</td>\n",
       "      <td>0</td>\n",
       "      <td>1</td>\n",
       "    </tr>\n",
       "    <tr>\n",
       "      <th>9</th>\n",
       "      <td>DPR</td>\n",
       "      <td>DPR</td>\n",
       "      <td>100</td>\n",
       "      <td>AD-982-708-895-F-6C894FB</td>\n",
       "      <td>52039657</td>\n",
       "      <td>1312378</td>\n",
       "      <td>48128811961800</td>\n",
       "      <td>04/12/2018</td>\n",
       "      <td>1</td>\n",
       "      <td>100.0</td>\n",
       "      <td>-100.00</td>\n",
       "      <td>0.00</td>\n",
       "      <td>0.0</td>\n",
       "      <td>0.0</td>\n",
       "      <td>0.0</td>\n",
       "      <td>0</td>\n",
       "      <td>1</td>\n",
       "    </tr>\n",
       "  </tbody>\n",
       "</table>\n",
       "</div>"
      ],
      "text/plain": [
       "  product_title product_type variant_title               variant_sku  \\\n",
       "0           DPR          DPR           100  AD-982-708-895-F-6C894FB   \n",
       "1           RJF    Product P  28 / A / MTM  83-490-E49-8C8-8-3B100BC   \n",
       "2           CLH    Product B  32 / B / FtO  68-ECA-BC7-3B2-A-E73DE1B   \n",
       "3           NMA    Product F  40 / B / FtO  6C-1F1-226-1B3-2-3542B41   \n",
       "4           NMA    Product F  40 / B / FtO  6C-1F1-226-1B3-2-3542B41   \n",
       "5           OTH    Product F  40 / B / FtO  53-5CA-7CF-8F5-9-28CB78B   \n",
       "6           OTH    Product F  40 / B / FtO  53-5CA-7CF-8F5-9-28CB78B   \n",
       "7           NMA    Product F  40 / B / FtO  6C-1F1-226-1B3-2-3542B41   \n",
       "8           OTH    Product F  40 / C / FtO  8B-2C5-548-6C6-E-B5EECBC   \n",
       "9           DPR          DPR           100  AD-982-708-895-F-6C894FB   \n",
       "\n",
       "   variant_id  customer_id        order_id         day  net_quantity  \\\n",
       "0    52039657      1312378  83290718932496  04/12/2018             2   \n",
       "1    56914686      3715657  36253792848113  01/04/2019             2   \n",
       "2    24064862      9533448  73094559597229  05/11/2018             0   \n",
       "3    43823868      4121004  53616575668264  19/02/2019             1   \n",
       "4    43823868      4121004  29263220319421  19/02/2019             1   \n",
       "5    43823868      4121004  53616575668264  19/02/2019             1   \n",
       "6    43823868      4121004  29263220319421  19/02/2019             1   \n",
       "7    43823868      4121004  13666410519728  20/02/2019             1   \n",
       "8    43823868      4121004  80657249973427  22/02/2019             1   \n",
       "9    52039657      1312378  48128811961800  04/12/2018             1   \n",
       "\n",
       "   gross_sales  discounts  returns  net_sales  taxes  total_sales  \\\n",
       "0        200.0    -200.00     0.00        0.0    0.0          0.0   \n",
       "1        190.0    -190.00     0.00        0.0    0.0          0.0   \n",
       "2        164.8    -156.56    -8.24        0.0    0.0          0.0   \n",
       "3        119.0    -119.00     0.00        0.0    0.0          0.0   \n",
       "4        119.0    -119.00     0.00        0.0    0.0          0.0   \n",
       "5        119.0    -119.00     0.00        0.0    0.0          0.0   \n",
       "6        119.0    -119.00     0.00        0.0    0.0          0.0   \n",
       "7        119.0    -119.00     0.00        0.0    0.0          0.0   \n",
       "8        119.0    -119.00     0.00        0.0    0.0          0.0   \n",
       "9        100.0    -100.00     0.00        0.0    0.0          0.0   \n",
       "\n",
       "   returned_item_quantity  ordered_item_quantity  \n",
       "0                       0                      2  \n",
       "1                       0                      2  \n",
       "2                      -2                      2  \n",
       "3                       0                      1  \n",
       "4                       0                      1  \n",
       "5                       0                      1  \n",
       "6                       0                      1  \n",
       "7                       0                      1  \n",
       "8                       0                      1  \n",
       "9                       0                      1  "
      ]
     },
     "execution_count": 2,
     "metadata": {},
     "output_type": "execute_result"
    }
   ],
   "source": [
    "# load data frame\n",
    "orders = pd.read_csv('Orders_Analysis_Task.csv')\n",
    "# orders.set_index('day',drop='day')\n",
    "# orders['day'] = pd.to_datetime(orders['day'])\n",
    "orders.head(10)\n"
   ]
  },
  {
   "cell_type": "markdown",
   "metadata": {},
   "source": [
    "Product variant = if a product such as a t-shirt is available in five different sizes and four different colors, then there is a total of 20 variations of the same product."
   ]
  },
  {
   "cell_type": "code",
   "execution_count": 3,
   "metadata": {},
   "outputs": [
    {
     "name": "stdout",
     "output_type": "stream",
     "text": [
      "<class 'pandas.core.frame.DataFrame'>\n",
      "RangeIndex: 70052 entries, 0 to 70051\n",
      "Data columns (total 17 columns):\n",
      " #   Column                  Non-Null Count  Dtype  \n",
      "---  ------                  --------------  -----  \n",
      " 0   product_title           70052 non-null  object \n",
      " 1   product_type            70052 non-null  object \n",
      " 2   variant_title           70052 non-null  object \n",
      " 3   variant_sku             70052 non-null  object \n",
      " 4   variant_id              70052 non-null  int64  \n",
      " 5   customer_id             70052 non-null  int64  \n",
      " 6   order_id                70052 non-null  int64  \n",
      " 7   day                     70052 non-null  object \n",
      " 8   net_quantity            70052 non-null  int64  \n",
      " 9   gross_sales             70052 non-null  float64\n",
      " 10  discounts               70052 non-null  float64\n",
      " 11  returns                 70052 non-null  float64\n",
      " 12  net_sales               70052 non-null  float64\n",
      " 13  taxes                   70052 non-null  float64\n",
      " 14  total_sales             70052 non-null  float64\n",
      " 15  returned_item_quantity  70052 non-null  int64  \n",
      " 16  ordered_item_quantity   70052 non-null  int64  \n",
      "dtypes: float64(6), int64(6), object(5)\n",
      "memory usage: 9.1+ MB\n"
     ]
    }
   ],
   "source": [
    "orders.info()"
   ]
  },
  {
   "cell_type": "code",
   "execution_count": 4,
   "metadata": {},
   "outputs": [
    {
     "data": {
      "text/html": [
       "<div>\n",
       "<style scoped>\n",
       "    .dataframe tbody tr th:only-of-type {\n",
       "        vertical-align: middle;\n",
       "    }\n",
       "\n",
       "    .dataframe tbody tr th {\n",
       "        vertical-align: top;\n",
       "    }\n",
       "\n",
       "    .dataframe thead th {\n",
       "        text-align: right;\n",
       "    }\n",
       "</style>\n",
       "<table border=\"1\" class=\"dataframe\">\n",
       "  <thead>\n",
       "    <tr style=\"text-align: right;\">\n",
       "      <th></th>\n",
       "      <th>variant_id</th>\n",
       "      <th>customer_id</th>\n",
       "      <th>order_id</th>\n",
       "      <th>net_quantity</th>\n",
       "      <th>gross_sales</th>\n",
       "      <th>discounts</th>\n",
       "      <th>returns</th>\n",
       "      <th>net_sales</th>\n",
       "      <th>taxes</th>\n",
       "      <th>total_sales</th>\n",
       "      <th>returned_item_quantity</th>\n",
       "      <th>ordered_item_quantity</th>\n",
       "    </tr>\n",
       "  </thead>\n",
       "  <tbody>\n",
       "    <tr>\n",
       "      <th>count</th>\n",
       "      <td>7.005200e+04</td>\n",
       "      <td>7.005200e+04</td>\n",
       "      <td>7.005200e+04</td>\n",
       "      <td>70052.000000</td>\n",
       "      <td>70052.000000</td>\n",
       "      <td>70052.000000</td>\n",
       "      <td>70052.000000</td>\n",
       "      <td>70052.000000</td>\n",
       "      <td>70052.000000</td>\n",
       "      <td>70052.000000</td>\n",
       "      <td>70052.000000</td>\n",
       "      <td>70052.000000</td>\n",
       "    </tr>\n",
       "    <tr>\n",
       "      <th>mean</th>\n",
       "      <td>2.442320e+11</td>\n",
       "      <td>6.013091e+11</td>\n",
       "      <td>5.506075e+13</td>\n",
       "      <td>0.701179</td>\n",
       "      <td>61.776302</td>\n",
       "      <td>-4.949904</td>\n",
       "      <td>-10.246051</td>\n",
       "      <td>46.580348</td>\n",
       "      <td>9.123636</td>\n",
       "      <td>55.703982</td>\n",
       "      <td>-0.156098</td>\n",
       "      <td>0.857277</td>\n",
       "    </tr>\n",
       "    <tr>\n",
       "      <th>std</th>\n",
       "      <td>4.255079e+12</td>\n",
       "      <td>6.223201e+12</td>\n",
       "      <td>2.587640e+13</td>\n",
       "      <td>0.739497</td>\n",
       "      <td>31.800689</td>\n",
       "      <td>7.769972</td>\n",
       "      <td>25.154677</td>\n",
       "      <td>51.802690</td>\n",
       "      <td>10.305236</td>\n",
       "      <td>61.920557</td>\n",
       "      <td>0.369190</td>\n",
       "      <td>0.380820</td>\n",
       "    </tr>\n",
       "    <tr>\n",
       "      <th>min</th>\n",
       "      <td>1.001447e+07</td>\n",
       "      <td>1.000661e+06</td>\n",
       "      <td>1.000657e+13</td>\n",
       "      <td>-3.000000</td>\n",
       "      <td>0.000000</td>\n",
       "      <td>-200.000000</td>\n",
       "      <td>-237.500000</td>\n",
       "      <td>-237.500000</td>\n",
       "      <td>-47.500000</td>\n",
       "      <td>-285.000000</td>\n",
       "      <td>-3.000000</td>\n",
       "      <td>0.000000</td>\n",
       "    </tr>\n",
       "    <tr>\n",
       "      <th>25%</th>\n",
       "      <td>2.692223e+07</td>\n",
       "      <td>3.295695e+06</td>\n",
       "      <td>3.270317e+13</td>\n",
       "      <td>1.000000</td>\n",
       "      <td>51.670000</td>\n",
       "      <td>-8.340000</td>\n",
       "      <td>0.000000</td>\n",
       "      <td>47.080000</td>\n",
       "      <td>8.375000</td>\n",
       "      <td>56.227500</td>\n",
       "      <td>0.000000</td>\n",
       "      <td>1.000000</td>\n",
       "    </tr>\n",
       "    <tr>\n",
       "      <th>50%</th>\n",
       "      <td>4.494514e+07</td>\n",
       "      <td>5.566107e+06</td>\n",
       "      <td>5.522207e+13</td>\n",
       "      <td>1.000000</td>\n",
       "      <td>74.170000</td>\n",
       "      <td>0.000000</td>\n",
       "      <td>0.000000</td>\n",
       "      <td>63.330000</td>\n",
       "      <td>12.660000</td>\n",
       "      <td>76.000000</td>\n",
       "      <td>0.000000</td>\n",
       "      <td>1.000000</td>\n",
       "    </tr>\n",
       "    <tr>\n",
       "      <th>75%</th>\n",
       "      <td>7.743106e+07</td>\n",
       "      <td>7.815352e+06</td>\n",
       "      <td>7.736876e+13</td>\n",
       "      <td>1.000000</td>\n",
       "      <td>79.170000</td>\n",
       "      <td>0.000000</td>\n",
       "      <td>0.000000</td>\n",
       "      <td>74.170000</td>\n",
       "      <td>14.840000</td>\n",
       "      <td>89.000000</td>\n",
       "      <td>0.000000</td>\n",
       "      <td>1.000000</td>\n",
       "    </tr>\n",
       "    <tr>\n",
       "      <th>max</th>\n",
       "      <td>8.422212e+13</td>\n",
       "      <td>9.977409e+13</td>\n",
       "      <td>9.999554e+13</td>\n",
       "      <td>6.000000</td>\n",
       "      <td>445.000000</td>\n",
       "      <td>0.000000</td>\n",
       "      <td>0.000000</td>\n",
       "      <td>445.000000</td>\n",
       "      <td>63.340000</td>\n",
       "      <td>445.000000</td>\n",
       "      <td>0.000000</td>\n",
       "      <td>6.000000</td>\n",
       "    </tr>\n",
       "  </tbody>\n",
       "</table>\n",
       "</div>"
      ],
      "text/plain": [
       "         variant_id   customer_id      order_id  net_quantity   gross_sales  \\\n",
       "count  7.005200e+04  7.005200e+04  7.005200e+04  70052.000000  70052.000000   \n",
       "mean   2.442320e+11  6.013091e+11  5.506075e+13      0.701179     61.776302   \n",
       "std    4.255079e+12  6.223201e+12  2.587640e+13      0.739497     31.800689   \n",
       "min    1.001447e+07  1.000661e+06  1.000657e+13     -3.000000      0.000000   \n",
       "25%    2.692223e+07  3.295695e+06  3.270317e+13      1.000000     51.670000   \n",
       "50%    4.494514e+07  5.566107e+06  5.522207e+13      1.000000     74.170000   \n",
       "75%    7.743106e+07  7.815352e+06  7.736876e+13      1.000000     79.170000   \n",
       "max    8.422212e+13  9.977409e+13  9.999554e+13      6.000000    445.000000   \n",
       "\n",
       "          discounts       returns     net_sales         taxes   total_sales  \\\n",
       "count  70052.000000  70052.000000  70052.000000  70052.000000  70052.000000   \n",
       "mean      -4.949904    -10.246051     46.580348      9.123636     55.703982   \n",
       "std        7.769972     25.154677     51.802690     10.305236     61.920557   \n",
       "min     -200.000000   -237.500000   -237.500000    -47.500000   -285.000000   \n",
       "25%       -8.340000      0.000000     47.080000      8.375000     56.227500   \n",
       "50%        0.000000      0.000000     63.330000     12.660000     76.000000   \n",
       "75%        0.000000      0.000000     74.170000     14.840000     89.000000   \n",
       "max        0.000000      0.000000    445.000000     63.340000    445.000000   \n",
       "\n",
       "       returned_item_quantity  ordered_item_quantity  \n",
       "count            70052.000000           70052.000000  \n",
       "mean                -0.156098               0.857277  \n",
       "std                  0.369190               0.380820  \n",
       "min                 -3.000000               0.000000  \n",
       "25%                  0.000000               1.000000  \n",
       "50%                  0.000000               1.000000  \n",
       "75%                  0.000000               1.000000  \n",
       "max                  0.000000               6.000000  "
      ]
     },
     "execution_count": 4,
     "metadata": {},
     "output_type": "execute_result"
    }
   ],
   "source": [
    "# descriptive statistics\n",
    "orders.describe()"
   ]
  },
  {
   "cell_type": "code",
   "execution_count": 5,
   "metadata": {},
   "outputs": [
    {
     "data": {
      "application/vnd.jupyter.widget-view+json": {
       "model_id": "97da222cc4bf4124a9f6ec65e57410ef",
       "version_major": 2,
       "version_minor": 0
      },
      "text/plain": [
       "interactive(children=(Dropdown(description='column', options=('gross_sales', 'net_sales', 'total_sales'), valu…"
      ]
     },
     "metadata": {},
     "output_type": "display_data"
    }
   ],
   "source": [
    "# list the rows taht company achieved most any kind of sales for a given limit\n",
    "@interact\n",
    "def show_sales_more_than(column = ['gross_sales', 'net_sales', 'total_sales'],\n",
    "                         x = widgets.IntSlider(min=0, max=500, step=10)):\n",
    "#     print(orders.loc[orders[column] > x])\n",
    "    return orders.loc[orders[column] > x]\n"
   ]
  },
  {
   "cell_type": "code",
   "execution_count": 6,
   "metadata": {},
   "outputs": [
    {
     "data": {
      "application/vnd.jupyter.widget-view+json": {
       "model_id": "4f6352d2c2a149a88513a34c6e556bd3",
       "version_major": 2,
       "version_minor": 0
      },
      "text/plain": [
       "interactive(children=(Dropdown(description='x', options=('variant_id', 'customer_id', 'order_id', 'net_quantit…"
      ]
     },
     "metadata": {},
     "output_type": "display_data"
    }
   ],
   "source": [
    "# interactive scatterplot to visualize relationships between the numerical columns of the dataframe\n",
    "@interact\n",
    "def scatter_plot(x=list(orders.select_dtypes([\"int64\", \"float64\"]).columns), \n",
    "                 y=list(orders.select_dtypes([\"int64\", \"float64\"]).columns)[1:]):\n",
    "    plt.figure(figsize=(12,8))\n",
    "    sns.scatterplot(x=x, y=y, data=orders)\n",
    "    plt.ticklabel_format(style='plain', axis='y')\n",
    "    plt.title('%(y_title)s VS %(x_title)s' % {\"y_title\": y, \"x_title\": x})"
   ]
  },
  {
   "cell_type": "markdown",
   "metadata": {},
   "source": [
    "# 1) On what day did we make the most Gross Sales? Why would it make sense for this to be our biggest sales day?"
   ]
  },
  {
   "cell_type": "code",
   "execution_count": 7,
   "metadata": {},
   "outputs": [
    {
     "data": {
      "text/html": [
       "<div>\n",
       "<style scoped>\n",
       "    .dataframe tbody tr th:only-of-type {\n",
       "        vertical-align: middle;\n",
       "    }\n",
       "\n",
       "    .dataframe tbody tr th {\n",
       "        vertical-align: top;\n",
       "    }\n",
       "\n",
       "    .dataframe thead th {\n",
       "        text-align: right;\n",
       "    }\n",
       "</style>\n",
       "<table border=\"1\" class=\"dataframe\">\n",
       "  <thead>\n",
       "    <tr style=\"text-align: right;\">\n",
       "      <th></th>\n",
       "      <th>day</th>\n",
       "      <th>gross_sales</th>\n",
       "    </tr>\n",
       "  </thead>\n",
       "  <tbody>\n",
       "    <tr>\n",
       "      <th>136</th>\n",
       "      <td>23/11/2018</td>\n",
       "      <td>179394.23</td>\n",
       "    </tr>\n",
       "    <tr>\n",
       "      <th>154</th>\n",
       "      <td>26/11/2018</td>\n",
       "      <td>135499.95</td>\n",
       "    </tr>\n",
       "    <tr>\n",
       "      <th>142</th>\n",
       "      <td>24/11/2018</td>\n",
       "      <td>85951.77</td>\n",
       "    </tr>\n",
       "    <tr>\n",
       "      <th>155</th>\n",
       "      <td>26/12/2018</td>\n",
       "      <td>83141.42</td>\n",
       "    </tr>\n",
       "    <tr>\n",
       "      <th>6</th>\n",
       "      <td>02/01/2019</td>\n",
       "      <td>81625.21</td>\n",
       "    </tr>\n",
       "    <tr>\n",
       "      <th>148</th>\n",
       "      <td>25/11/2018</td>\n",
       "      <td>63326.32</td>\n",
       "    </tr>\n",
       "    <tr>\n",
       "      <th>83</th>\n",
       "      <td>14/12/2018</td>\n",
       "      <td>62913.18</td>\n",
       "    </tr>\n",
       "    <tr>\n",
       "      <th>44</th>\n",
       "      <td>08/03/2019</td>\n",
       "      <td>59965.48</td>\n",
       "    </tr>\n",
       "    <tr>\n",
       "      <th>165</th>\n",
       "      <td>28/04/2019</td>\n",
       "      <td>57607.86</td>\n",
       "    </tr>\n",
       "    <tr>\n",
       "      <th>159</th>\n",
       "      <td>27/04/2019</td>\n",
       "      <td>54576.63</td>\n",
       "    </tr>\n",
       "  </tbody>\n",
       "</table>\n",
       "</div>"
      ],
      "text/plain": [
       "            day  gross_sales\n",
       "136  23/11/2018    179394.23\n",
       "154  26/11/2018    135499.95\n",
       "142  24/11/2018     85951.77\n",
       "155  26/12/2018     83141.42\n",
       "6    02/01/2019     81625.21\n",
       "148  25/11/2018     63326.32\n",
       "83   14/12/2018     62913.18\n",
       "44   08/03/2019     59965.48\n",
       "165  28/04/2019     57607.86\n",
       "159  27/04/2019     54576.63"
      ]
     },
     "execution_count": 7,
     "metadata": {},
     "output_type": "execute_result"
    }
   ],
   "source": [
    "orders_by_day = orders.groupby('day')\\\n",
    "                        .gross_sales.sum()\\\n",
    "                        .reset_index()\\\n",
    "                        .sort_values(by=['gross_sales'], ascending=False)\n",
    "orders_by_day.head(10)"
   ]
  },
  {
   "cell_type": "markdown",
   "metadata": {},
   "source": [
    "observations:\n",
    "\n",
    "Biggest Sales happened around :\n",
    "* 23-26th of November, 2018 : Black-Friday ,where people are promoted to do shopping massively with crazy discount rates.\n",
    "* 2nd of January, 2019 and 26th of December, 2018: Christmas Eve and afterwards, holiday season shows its effects even after the New Year's with high sales.\n",
    "\n",
    "It makes sense since these dates corresponds to gift and shopping seasons.\n",
    "\n",
    "Total sales could give an alternative picture for this question, since it is the final amount after discounts, returns and tax. It also reflects how discounts affects purchasing decisions.\n",
    "\n",
    "    "
   ]
  },
  {
   "cell_type": "code",
   "execution_count": 8,
   "metadata": {},
   "outputs": [
    {
     "data": {
      "text/html": [
       "<div>\n",
       "<style scoped>\n",
       "    .dataframe tbody tr th:only-of-type {\n",
       "        vertical-align: middle;\n",
       "    }\n",
       "\n",
       "    .dataframe tbody tr th {\n",
       "        vertical-align: top;\n",
       "    }\n",
       "\n",
       "    .dataframe thead th {\n",
       "        text-align: right;\n",
       "    }\n",
       "</style>\n",
       "<table border=\"1\" class=\"dataframe\">\n",
       "  <thead>\n",
       "    <tr style=\"text-align: right;\">\n",
       "      <th></th>\n",
       "      <th>day</th>\n",
       "      <th>total_sales</th>\n",
       "    </tr>\n",
       "  </thead>\n",
       "  <tbody>\n",
       "    <tr>\n",
       "      <th>136</th>\n",
       "      <td>23/11/2018</td>\n",
       "      <td>162191.09</td>\n",
       "    </tr>\n",
       "    <tr>\n",
       "      <th>154</th>\n",
       "      <td>26/11/2018</td>\n",
       "      <td>117613.61</td>\n",
       "    </tr>\n",
       "    <tr>\n",
       "      <th>155</th>\n",
       "      <td>26/12/2018</td>\n",
       "      <td>95914.50</td>\n",
       "    </tr>\n",
       "    <tr>\n",
       "      <th>6</th>\n",
       "      <td>02/01/2019</td>\n",
       "      <td>87628.85</td>\n",
       "    </tr>\n",
       "    <tr>\n",
       "      <th>142</th>\n",
       "      <td>24/11/2018</td>\n",
       "      <td>82978.85</td>\n",
       "    </tr>\n",
       "  </tbody>\n",
       "</table>\n",
       "</div>"
      ],
      "text/plain": [
       "            day  total_sales\n",
       "136  23/11/2018    162191.09\n",
       "154  26/11/2018    117613.61\n",
       "155  26/12/2018     95914.50\n",
       "6    02/01/2019     87628.85\n",
       "142  24/11/2018     82978.85"
      ]
     },
     "execution_count": 8,
     "metadata": {},
     "output_type": "execute_result"
    }
   ],
   "source": [
    "orders_by_day = orders.groupby('day')\\\n",
    "                        .total_sales.sum()\\\n",
    "                        .reset_index()\\\n",
    "                        .sort_values(by='total_sales', ascending=False).head()\n",
    "orders_by_day"
   ]
  },
  {
   "cell_type": "markdown",
   "metadata": {},
   "source": [
    "Sorting did not change much, biggest gross sales and total sales occured in the same days, invalidating my earlier suspicion."
   ]
  },
  {
   "cell_type": "markdown",
   "metadata": {},
   "source": [
    "# Which product type did we sell the most units of? What business decisions could we make knowing this information?"
   ]
  },
  {
   "cell_type": "code",
   "execution_count": 9,
   "metadata": {},
   "outputs": [
    {
     "data": {
      "text/html": [
       "<div>\n",
       "<style scoped>\n",
       "    .dataframe tbody tr th:only-of-type {\n",
       "        vertical-align: middle;\n",
       "    }\n",
       "\n",
       "    .dataframe tbody tr th {\n",
       "        vertical-align: top;\n",
       "    }\n",
       "\n",
       "    .dataframe thead th {\n",
       "        text-align: right;\n",
       "    }\n",
       "</style>\n",
       "<table border=\"1\" class=\"dataframe\">\n",
       "  <thead>\n",
       "    <tr style=\"text-align: right;\">\n",
       "      <th></th>\n",
       "      <th>product_title</th>\n",
       "      <th>product_type</th>\n",
       "      <th>variant_title</th>\n",
       "      <th>variant_sku</th>\n",
       "      <th>variant_id</th>\n",
       "      <th>customer_id</th>\n",
       "      <th>order_id</th>\n",
       "      <th>day</th>\n",
       "      <th>net_quantity</th>\n",
       "      <th>gross_sales</th>\n",
       "      <th>discounts</th>\n",
       "      <th>returns</th>\n",
       "      <th>net_sales</th>\n",
       "      <th>taxes</th>\n",
       "      <th>total_sales</th>\n",
       "      <th>returned_item_quantity</th>\n",
       "      <th>ordered_item_quantity</th>\n",
       "    </tr>\n",
       "  </thead>\n",
       "  <tbody>\n",
       "    <tr>\n",
       "      <th>59295</th>\n",
       "      <td>NMA</td>\n",
       "      <td>Product F</td>\n",
       "      <td>40 / B / FtO</td>\n",
       "      <td>6C-1F1-226-1B3-2-3542B41</td>\n",
       "      <td>43823868</td>\n",
       "      <td>4121004</td>\n",
       "      <td>13666410519728</td>\n",
       "      <td>01/03/2019</td>\n",
       "      <td>-1</td>\n",
       "      <td>0.0</td>\n",
       "      <td>0.0</td>\n",
       "      <td>0.0</td>\n",
       "      <td>0.0</td>\n",
       "      <td>0.0</td>\n",
       "      <td>0.0</td>\n",
       "      <td>-1</td>\n",
       "      <td>0</td>\n",
       "    </tr>\n",
       "    <tr>\n",
       "      <th>59300</th>\n",
       "      <td>NMA</td>\n",
       "      <td>Product F</td>\n",
       "      <td>40 / B / FtO</td>\n",
       "      <td>6C-1F1-226-1B3-2-3542B41</td>\n",
       "      <td>43823868</td>\n",
       "      <td>4121004</td>\n",
       "      <td>53616575668264</td>\n",
       "      <td>23/02/2019</td>\n",
       "      <td>-1</td>\n",
       "      <td>0.0</td>\n",
       "      <td>0.0</td>\n",
       "      <td>0.0</td>\n",
       "      <td>0.0</td>\n",
       "      <td>0.0</td>\n",
       "      <td>0.0</td>\n",
       "      <td>-1</td>\n",
       "      <td>0</td>\n",
       "    </tr>\n",
       "    <tr>\n",
       "      <th>59305</th>\n",
       "      <td>RJF</td>\n",
       "      <td>Product T</td>\n",
       "      <td>28 / A / 9</td>\n",
       "      <td>4D-D1F-A14-8D9-0-FD0E84A</td>\n",
       "      <td>31355561</td>\n",
       "      <td>3715657</td>\n",
       "      <td>93146430228825</td>\n",
       "      <td>04/12/2018</td>\n",
       "      <td>-1</td>\n",
       "      <td>0.0</td>\n",
       "      <td>0.0</td>\n",
       "      <td>0.0</td>\n",
       "      <td>0.0</td>\n",
       "      <td>0.0</td>\n",
       "      <td>0.0</td>\n",
       "      <td>-1</td>\n",
       "      <td>0</td>\n",
       "    </tr>\n",
       "    <tr>\n",
       "      <th>59314</th>\n",
       "      <td>OTH</td>\n",
       "      <td>Product F</td>\n",
       "      <td>40 / B / FtO</td>\n",
       "      <td>53-5CA-7CF-8F5-9-28CB78B</td>\n",
       "      <td>43823868</td>\n",
       "      <td>4121004</td>\n",
       "      <td>53616575668264</td>\n",
       "      <td>23/02/2019</td>\n",
       "      <td>-1</td>\n",
       "      <td>0.0</td>\n",
       "      <td>0.0</td>\n",
       "      <td>0.0</td>\n",
       "      <td>0.0</td>\n",
       "      <td>0.0</td>\n",
       "      <td>0.0</td>\n",
       "      <td>-1</td>\n",
       "      <td>0</td>\n",
       "    </tr>\n",
       "    <tr>\n",
       "      <th>59328</th>\n",
       "      <td>YQX</td>\n",
       "      <td>Product H</td>\n",
       "      <td>40 / B / FtO</td>\n",
       "      <td>F2-055-4C3-8C3-0-7070F1D</td>\n",
       "      <td>25826279</td>\n",
       "      <td>4121004</td>\n",
       "      <td>13666410519728</td>\n",
       "      <td>01/03/2019</td>\n",
       "      <td>-1</td>\n",
       "      <td>0.0</td>\n",
       "      <td>0.0</td>\n",
       "      <td>0.0</td>\n",
       "      <td>0.0</td>\n",
       "      <td>0.0</td>\n",
       "      <td>0.0</td>\n",
       "      <td>-1</td>\n",
       "      <td>0</td>\n",
       "    </tr>\n",
       "  </tbody>\n",
       "</table>\n",
       "</div>"
      ],
      "text/plain": [
       "      product_title product_type variant_title               variant_sku  \\\n",
       "59295           NMA    Product F  40 / B / FtO  6C-1F1-226-1B3-2-3542B41   \n",
       "59300           NMA    Product F  40 / B / FtO  6C-1F1-226-1B3-2-3542B41   \n",
       "59305           RJF    Product T    28 / A / 9  4D-D1F-A14-8D9-0-FD0E84A   \n",
       "59314           OTH    Product F  40 / B / FtO  53-5CA-7CF-8F5-9-28CB78B   \n",
       "59328           YQX    Product H  40 / B / FtO  F2-055-4C3-8C3-0-7070F1D   \n",
       "\n",
       "       variant_id  customer_id        order_id         day  net_quantity  \\\n",
       "59295    43823868      4121004  13666410519728  01/03/2019            -1   \n",
       "59300    43823868      4121004  53616575668264  23/02/2019            -1   \n",
       "59305    31355561      3715657  93146430228825  04/12/2018            -1   \n",
       "59314    43823868      4121004  53616575668264  23/02/2019            -1   \n",
       "59328    25826279      4121004  13666410519728  01/03/2019            -1   \n",
       "\n",
       "       gross_sales  discounts  returns  net_sales  taxes  total_sales  \\\n",
       "59295          0.0        0.0      0.0        0.0    0.0          0.0   \n",
       "59300          0.0        0.0      0.0        0.0    0.0          0.0   \n",
       "59305          0.0        0.0      0.0        0.0    0.0          0.0   \n",
       "59314          0.0        0.0      0.0        0.0    0.0          0.0   \n",
       "59328          0.0        0.0      0.0        0.0    0.0          0.0   \n",
       "\n",
       "       returned_item_quantity  ordered_item_quantity  \n",
       "59295                      -1                      0  \n",
       "59300                      -1                      0  \n",
       "59305                      -1                      0  \n",
       "59314                      -1                      0  \n",
       "59328                      -1                      0  "
      ]
     },
     "execution_count": 9,
     "metadata": {},
     "output_type": "execute_result"
    }
   ],
   "source": [
    "orders[orders['ordered_item_quantity']==0].head()\n",
    "\n"
   ]
  },
  {
   "cell_type": "markdown",
   "metadata": {},
   "source": [
    "there are some products whose 'ordered_item_quantity' is zero but 'net_quantity' is less than 0. that is items were returned without being purchased. but the fact that they have returns requires investigation."
   ]
  },
  {
   "cell_type": "code",
   "execution_count": 10,
   "metadata": {},
   "outputs": [
    {
     "name": "stdout",
     "output_type": "stream",
     "text": [
      "Number of rows that net quantity is negative: 10715\n"
     ]
    }
   ],
   "source": [
    "print('Number of rows that net quantity is negative:',orders[orders['net_quantity']<0].shape[0])\n",
    "# exclude not sold/ordered SKUs from the dataset\n",
    "positive_orders = orders[orders[\"ordered_item_quantity\"] > 0]"
   ]
  },
  {
   "cell_type": "markdown",
   "metadata": {},
   "source": [
    "These rows will be excluded from the orders dataset for questions 2, 3, 4, since they distort the analysis"
   ]
  },
  {
   "cell_type": "code",
   "execution_count": 11,
   "metadata": {},
   "outputs": [
    {
     "data": {
      "text/plain": [
       "(array([ 0,  1,  2,  3,  4,  5,  6,  7,  8,  9, 10, 11, 12, 13, 14, 15, 16,\n",
       "        17, 18, 19, 20, 21]),\n",
       " <a list of 22 Text major ticklabel objects>)"
      ]
     },
     "execution_count": 11,
     "metadata": {},
     "output_type": "execute_result"
    },
    {
     "data": {
      "image/png": "[encoded data removed]",
      "text/plain": [
       "<Figure size 1080x432 with 1 Axes>"
      ]
     },
     "metadata": {
      "image/png": {
       "height": 461,
       "width": 935
      },
      "needs_background": "light"
     },
     "output_type": "display_data"
    }
   ],
   "source": [
    "orders_by_product_type = orders[orders['net_quantity']>0].groupby('product_type')\\\n",
    "                                .net_quantity.sum()\\\n",
    "                                .reset_index()\\\n",
    "                                .sort_values(by=['net_quantity'],ascending=False)\n",
    "\n",
    "# prepare plot\n",
    "figure = plt.figure(figsize=(15,6))\n",
    "sns.set(style='whitegrid', font_scale=1.5)\n",
    "\n",
    "#set color\n",
    "labels = np.array(orders_by_product_type.product_type)\n",
    "values = np.array(orders_by_product_type.net_quantity)\n",
    "color = ['grey' if (x < 7500 ) else 'blue' for x in values]  # color for each bar \n",
    "\n",
    "#set the plot\n",
    "ax = sns.barplot(x='product_type', y='net_quantity',\n",
    "                 data= orders_by_product_type, palette=color)\n",
    "\n",
    "# set title and arrange x ticks\n",
    "plt.title('Net units sold per Product Type')\n",
    "plt.xticks(rotation=(270+35))    "
   ]
  },
  {
   "cell_type": "markdown",
   "metadata": {},
   "source": [
    "Product P and H have outnumbered other categories in net unit sales.\n",
    "\n",
    "* Product P is the minimal and simple design of the retailer with a contemporary look.\n",
    "* Product H is the signature design of the retailer with a classic and smart casual look."
   ]
  },
  {
   "cell_type": "markdown",
   "metadata": {},
   "source": [
    "Business Decisions:\n",
    "\n",
    "* Simple, Casual and simple looks appeal more customers.\n",
    "* if company want to grow in terms of revenue, launch or targeted marketing of simple, casual and classic trousers can help.\n",
    "* Collections that are not depending on seasons attract more people.\n",
    "* Frequency of purchase or bulk purchase with multiple colors for Product P and H collections might be higher than the       other collections, since it seems they are filling the gap for the must-have's of a men's wardrobe.\n",
    "* Those collections inventory level must be higher than other collections, to prevent probability of stock out."
   ]
  },
  {
   "cell_type": "markdown",
   "metadata": {},
   "source": [
    "# What does the distribution of waist sizes look like? What does this say about our existing customer base?"
   ]
  },
  {
   "cell_type": "code",
   "execution_count": 12,
   "metadata": {},
   "outputs": [],
   "source": [
    "# waist size if applicable for trousers, shorts, denims\n",
    "# create new dataframe for those\n",
    "\n",
    "trousers = positive_orders[(positive_orders.product_type != 'DPR') & \n",
    "                           (positive_orders.product_type != 'Product R') &\n",
    "                           (positive_orders.product_type != 'Product N')].copy()\n",
    "\n",
    "# waist size is embedded in the variant_title as first item: waist_size / other size /  other size\n",
    "# fetch waist_size from the variant_title and convert to integer\n",
    "\n",
    "trousers['waist_size'] = (trousers.variant_title\n",
    "                          .apply(lambda x: x.split()[0]))\n",
    "\n",
    "trousers['waist_size']= trousers['waist_size'].astype(int)"
   ]
  },
  {
   "cell_type": "code",
   "execution_count": 13,
   "metadata": {},
   "outputs": [
    {
     "data": {
      "image/png": "[encoded data removed]",
      "text/plain": [
       "<Figure size 720x576 with 1 Axes>"
      ]
     },
     "metadata": {
      "image/png": {
       "height": 513,
       "width": 648
      }
     },
     "output_type": "display_data"
    }
   ],
   "source": [
    "# waist size of trousers\n",
    "fig=plt.figure(figsize=(10,8))\n",
    "plt.hist(trousers['waist_size'],bins=12)  # since there are 12 sizes from 28 to 40\n",
    "\n",
    "# plot mean and median\n",
    "plt.axvline(x=trousers['waist_size'].mean(), color='g', label='mean')\n",
    "plt.axvline(x=trousers['waist_size'].median(),  color='r', label='median')\n",
    "\n",
    "# set title, legends, and xticks\n",
    "plt.xticks(range(28,41))\n",
    "plt.xlabel('waist sizes')\n",
    "plt.ylabel('count')\n",
    "plt.title('Distribution of waist sizes')\n",
    "plt.legend();\n"
   ]
  },
  {
   "cell_type": "markdown",
   "metadata": {},
   "source": [
    "* Distribution has a peak at waist size= 34\n",
    "* customers base is more concentrated in range 32-36.\n",
    "* Data is centered around the mean and median, 34, as mid-waist-size\n",
    "* This data is very useful to plan for production quantities of trousers/short/jeans of different sizes.\n",
    "* Also, during a new category launch, more mid waist sizes should be considered for production.\n"
   ]
  },
  {
   "cell_type": "markdown",
   "metadata": {},
   "source": [
    " ### What if we look at distribution of the waist size per collection, what results will it yield?"
   ]
  },
  {
   "cell_type": "code",
   "execution_count": 14,
   "metadata": {},
   "outputs": [
    {
     "data": {
      "image/png": "[encoded data removed]",
      "text/plain": [
       "<Figure size 720x720 with 1 Axes>"
      ]
     },
     "metadata": {
      "image/png": {
       "height": 774,
       "width": 673
      }
     },
     "output_type": "display_data"
    }
   ],
   "source": [
    "\n",
    "g = sns.catplot(x='product_type', y='waist_size',\n",
    "               data=trousers, kind='box', height=10,\n",
    "               palette = 'Set1')\n",
    "g.set_xticklabels(rotation=90)\n",
    "plt.title('box plot of waist size for product types');"
   ]
  },
  {
   "cell_type": "markdown",
   "metadata": {},
   "source": [
    "As expected, waist size is concentrated around 32-36 "
   ]
  },
  {
   "cell_type": "markdown",
   "metadata": {},
   "source": [
    "# What is our unit return rate? Bonus points: what is our unit return rate for customers who ordered multiple sizes?"
   ]
  },
  {
   "cell_type": "code",
   "execution_count": 15,
   "metadata": {},
   "outputs": [
    {
     "name": "stdout",
     "output_type": "stream",
     "text": [
      "The unit return rate is : 0.0012\n"
     ]
    }
   ],
   "source": [
    "# to look at unit return rate, ratio of all returned items to the ordered items will be investigated\n",
    "returned_sum = float(-1*(positive_orders[\"returned_item_quantity\"].sum()))\n",
    "\n",
    "ordered_sum = float(positive_orders[\"ordered_item_quantity\"].sum())\n",
    "\n",
    "unit_return_rate = returned_sum / ordered_sum\n",
    "\n",
    "print(\"The unit return rate is : \"'%.4f'%unit_return_rate)\n"
   ]
  },
  {
   "cell_type": "markdown",
   "metadata": {},
   "source": [
    "Unit return rate is %0.1, it might be benefical to investigate return rate per orders as well, which might give a better clue of return rate."
   ]
  },
  {
   "cell_type": "code",
   "execution_count": 16,
   "metadata": {},
   "outputs": [
    {
     "name": "stdout",
     "output_type": "stream",
     "text": [
      "Average return rate per order id {0.0014}\n"
     ]
    },
    {
     "data": {
      "text/html": [
       "<div>\n",
       "<style scoped>\n",
       "    .dataframe tbody tr th:only-of-type {\n",
       "        vertical-align: middle;\n",
       "    }\n",
       "\n",
       "    .dataframe tbody tr th {\n",
       "        vertical-align: top;\n",
       "    }\n",
       "\n",
       "    .dataframe thead th {\n",
       "        text-align: right;\n",
       "    }\n",
       "</style>\n",
       "<table border=\"1\" class=\"dataframe\">\n",
       "  <thead>\n",
       "    <tr style=\"text-align: right;\">\n",
       "      <th></th>\n",
       "      <th>order_id</th>\n",
       "      <th>ordered_item_quantity</th>\n",
       "      <th>returned_item_quantity</th>\n",
       "      <th>return_rate</th>\n",
       "    </tr>\n",
       "  </thead>\n",
       "  <tbody>\n",
       "    <tr>\n",
       "      <th>0</th>\n",
       "      <td>10006570316892</td>\n",
       "      <td>1</td>\n",
       "      <td>0</td>\n",
       "      <td>0.0</td>\n",
       "    </tr>\n",
       "    <tr>\n",
       "      <th>1</th>\n",
       "      <td>10014506873501</td>\n",
       "      <td>2</td>\n",
       "      <td>0</td>\n",
       "      <td>0.0</td>\n",
       "    </tr>\n",
       "    <tr>\n",
       "      <th>2</th>\n",
       "      <td>10025999949327</td>\n",
       "      <td>1</td>\n",
       "      <td>0</td>\n",
       "      <td>0.0</td>\n",
       "    </tr>\n",
       "    <tr>\n",
       "      <th>3</th>\n",
       "      <td>10031056675364</td>\n",
       "      <td>1</td>\n",
       "      <td>0</td>\n",
       "      <td>0.0</td>\n",
       "    </tr>\n",
       "    <tr>\n",
       "      <th>4</th>\n",
       "      <td>10031124126768</td>\n",
       "      <td>1</td>\n",
       "      <td>0</td>\n",
       "      <td>0.0</td>\n",
       "    </tr>\n",
       "  </tbody>\n",
       "</table>\n",
       "</div>"
      ],
      "text/plain": [
       "         order_id  ordered_item_quantity  returned_item_quantity  return_rate\n",
       "0  10006570316892                      1                       0          0.0\n",
       "1  10014506873501                      2                       0          0.0\n",
       "2  10025999949327                      1                       0          0.0\n",
       "3  10031056675364                      1                       0          0.0\n",
       "4  10031124126768                      1                       0          0.0"
      ]
     },
     "execution_count": 16,
     "metadata": {},
     "output_type": "execute_result"
    }
   ],
   "source": [
    "returned_sum_by_order = (positive_orders\n",
    "                         .groupby('order_id')\n",
    "                         .returned_item_quantity.sum()\n",
    "                         .reset_index())\n",
    "ordered_sum_by_order =  (positive_orders\n",
    "                         .groupby('order_id')\n",
    "                         .ordered_item_quantity.sum()\n",
    "                         .reset_index())\n",
    "\n",
    "orders_by_order_id = pd.merge(ordered_sum_by_order, returned_sum_by_order)\n",
    "\n",
    "orders_by_order_id['return_rate'] = ((-1 * orders_by_order_id['returned_item_quantity'])/\n",
    "                                         orders_by_order_id['ordered_item_quantity'])\n",
    "print('Average return rate per order id {%.4f}'%orders_by_order_id['return_rate'].mean() )\n",
    "orders_by_order_id.head()"
   ]
  },
  {
   "cell_type": "markdown",
   "metadata": {},
   "source": [
    "### Unit return rate for customers who ordered multiple sizes"
   ]
  },
  {
   "cell_type": "markdown",
   "metadata": {},
   "source": [
    "* To answer this question, tshirts and trousers/shorts/jeans will be considered seperately.\n",
    "* Size is considered S, M, L, XL (and so on) for t-shirts and waist size for trousers/jeans/shorts. Rest of the elements in   the variant_title considered as cuts.\n",
    "* Trousers dataframe that is created for question 3 will be used for this analysis.\n",
    "* Tshirts dataframe will be created."
   ]
  },
  {
   "cell_type": "markdown",
   "metadata": {},
   "source": [
    "***create tshirt dataframe and add size column***"
   ]
  },
  {
   "cell_type": "code",
   "execution_count": 17,
   "metadata": {},
   "outputs": [],
   "source": [
    "tshirts = positive_orders[(positive_orders.product_type=='Product R') |\n",
    "                        (positive_orders.product_type=='Product N')].copy()\n",
    "\n",
    "tshirts ['size'] = (tshirts\n",
    "                    .variant_title.apply(lambda x : x.split()[0]))"
   ]
  },
  {
   "cell_type": "markdown",
   "metadata": {},
   "source": [
    "***Create functions to identify customers who order multiple sizes***"
   ]
  },
  {
   "cell_type": "code",
   "execution_count": 18,
   "metadata": {},
   "outputs": [],
   "source": [
    "def encode_sizes(column):\n",
    "    '''function to encode a size into 1 if bought, 0 if not bought'''\n",
    "    if column > 0:\n",
    "        return 1\n",
    "    if column <= 0:\n",
    "        return 0\n",
    "\n",
    "def aggregate_by_ordered_quantity(dataframe, column_list):\n",
    "    '''this function:\n",
    "    1. aggregates a given dataframe by column list, \n",
    "    as a result creates a aggregated dataframe by counting the ordered item quantities\n",
    "    \n",
    "    2. Encode: adds 'number_of_sizes_ordered' column to the aggregated dataframe by encoding ordered sizes into 1\n",
    "    \n",
    "    3. creates final dataframe containing information about \n",
    "    how many sizes are ordered, based on the first element passed in the column list'''\n",
    "    \n",
    "    aggregated_dataframe = (dataframe\n",
    "                            .groupby(column_list)\n",
    "                            .ordered_item_quantity.count()\n",
    "                            .reset_index())\n",
    "    \n",
    "    aggregated_dataframe[\"num_of_sizes_ordered\"] = (aggregated_dataframe\n",
    "                                                    .ordered_item_quantity\n",
    "                                                    .apply(encode_sizes))\n",
    "    final_dataframe = (aggregated_dataframe\n",
    "                       .groupby(column_list[0])\n",
    "                       .num_of_sizes_ordered.sum()\n",
    "                       .reset_index())\n",
    "    \n",
    "    return final_dataframe"
   ]
  },
  {
   "cell_type": "code",
   "execution_count": 19,
   "metadata": {},
   "outputs": [
    {
     "name": "stdout",
     "output_type": "stream",
     "text": [
      "for trousers/jeans/denims:\n",
      "          customer_id  num_of_sizes_ordered\n",
      "0             1000661                     1\n",
      "1             1001914                     1\n",
      "2             1002167                     1\n",
      "3             1002387                     1\n",
      "4             1002419                     1\n",
      "...               ...                   ...\n",
      "24303  97805007741979                     1\n",
      "24304  98854671633650                     1\n",
      "24305  98974226154136                     1\n",
      "24306  99262726332691                     2\n",
      "24307  99549917598660                     1\n",
      "\n",
      "[24308 rows x 2 columns]\n",
      "for tshirts:\n",
      "         customer_id  num_of_sizes_ordered\n",
      "0            1006436                     1\n",
      "1            1013613                     1\n",
      "2            1016212                     1\n",
      "3            1017090                     1\n",
      "4            1021299                     1\n",
      "...              ...                   ...\n",
      "2718  71640640924058                     1\n",
      "2719  72502421943749                     2\n",
      "2720  80200254264623                     1\n",
      "2721  90377580263567                     1\n",
      "2722  97805007741979                     2\n",
      "\n",
      "[2723 rows x 2 columns]\n"
     ]
    }
   ],
   "source": [
    "\n",
    "# apply functions to trousers\n",
    "customers_by_size_orders1 = aggregate_by_ordered_quantity(trousers, [\"customer_id\", \"waist_size\"])\n",
    "print(\"for trousers/jeans/denims:\")\n",
    "print(customers_by_size_orders1)\n",
    "\n",
    "# apply functions to trousers\n",
    "customers_by_size_orders2 = aggregate_by_ordered_quantity(tshirts, [\"customer_id\", \"size\"])\n",
    "print(\"for tshirts:\")\n",
    "print(customers_by_size_orders2)\n",
    "\n",
    "customer_by_size_orders = (pd.concat([customers_by_size_orders1\n",
    "                                      [customers_by_size_orders1.num_of_sizes_ordered >1] ,\n",
    "                                      customers_by_size_orders2\n",
    "                                      [customers_by_size_orders2.num_of_sizes_ordered >1]\n",
    "                                     ]\n",
    "                                    ))\n",
    "#since a customer can buy multiple sizes in shirts as well as trousers , \n",
    "# we will add no of orders in shirts and trousers for those customers\n",
    "customer_by_size_orders = (customer_by_size_orders\n",
    "                           .groupby('customer_id')\n",
    "                           .num_of_sizes_ordered.sum())"
   ]
  },
  {
   "cell_type": "markdown",
   "metadata": {},
   "source": [
    "#### Prepare datasets for unit return rate calculation"
   ]
  },
  {
   "cell_type": "code",
   "execution_count": 20,
   "metadata": {},
   "outputs": [
    {
     "data": {
      "text/html": [
       "<div>\n",
       "<style scoped>\n",
       "    .dataframe tbody tr th:only-of-type {\n",
       "        vertical-align: middle;\n",
       "    }\n",
       "\n",
       "    .dataframe tbody tr th {\n",
       "        vertical-align: top;\n",
       "    }\n",
       "\n",
       "    .dataframe thead th {\n",
       "        text-align: right;\n",
       "    }\n",
       "</style>\n",
       "<table border=\"1\" class=\"dataframe\">\n",
       "  <thead>\n",
       "    <tr style=\"text-align: right;\">\n",
       "      <th></th>\n",
       "      <th>customer_id</th>\n",
       "      <th>num_of_sizes_ordered</th>\n",
       "      <th>ordered_item_quantity</th>\n",
       "      <th>returned_item_quantity</th>\n",
       "    </tr>\n",
       "  </thead>\n",
       "  <tbody>\n",
       "    <tr>\n",
       "      <th>0</th>\n",
       "      <td>1003728</td>\n",
       "      <td>2</td>\n",
       "      <td>2</td>\n",
       "      <td>0</td>\n",
       "    </tr>\n",
       "    <tr>\n",
       "      <th>1</th>\n",
       "      <td>1003899</td>\n",
       "      <td>4</td>\n",
       "      <td>11</td>\n",
       "      <td>0</td>\n",
       "    </tr>\n",
       "    <tr>\n",
       "      <th>2</th>\n",
       "      <td>1006436</td>\n",
       "      <td>3</td>\n",
       "      <td>4</td>\n",
       "      <td>0</td>\n",
       "    </tr>\n",
       "    <tr>\n",
       "      <th>3</th>\n",
       "      <td>1006697</td>\n",
       "      <td>2</td>\n",
       "      <td>2</td>\n",
       "      <td>0</td>\n",
       "    </tr>\n",
       "    <tr>\n",
       "      <th>4</th>\n",
       "      <td>1007931</td>\n",
       "      <td>2</td>\n",
       "      <td>2</td>\n",
       "      <td>0</td>\n",
       "    </tr>\n",
       "    <tr>\n",
       "      <th>...</th>\n",
       "      <td>...</td>\n",
       "      <td>...</td>\n",
       "      <td>...</td>\n",
       "      <td>...</td>\n",
       "    </tr>\n",
       "    <tr>\n",
       "      <th>5378</th>\n",
       "      <td>84685734707676</td>\n",
       "      <td>2</td>\n",
       "      <td>2</td>\n",
       "      <td>0</td>\n",
       "    </tr>\n",
       "    <tr>\n",
       "      <th>5379</th>\n",
       "      <td>86886180036074</td>\n",
       "      <td>2</td>\n",
       "      <td>3</td>\n",
       "      <td>0</td>\n",
       "    </tr>\n",
       "    <tr>\n",
       "      <th>5380</th>\n",
       "      <td>97360670554629</td>\n",
       "      <td>2</td>\n",
       "      <td>2</td>\n",
       "      <td>0</td>\n",
       "    </tr>\n",
       "    <tr>\n",
       "      <th>5381</th>\n",
       "      <td>97805007741979</td>\n",
       "      <td>2</td>\n",
       "      <td>5</td>\n",
       "      <td>0</td>\n",
       "    </tr>\n",
       "    <tr>\n",
       "      <th>5382</th>\n",
       "      <td>99262726332691</td>\n",
       "      <td>2</td>\n",
       "      <td>3</td>\n",
       "      <td>0</td>\n",
       "    </tr>\n",
       "  </tbody>\n",
       "</table>\n",
       "<p>5383 rows × 4 columns</p>\n",
       "</div>"
      ],
      "text/plain": [
       "         customer_id  num_of_sizes_ordered  ordered_item_quantity  \\\n",
       "0            1003728                     2                      2   \n",
       "1            1003899                     4                     11   \n",
       "2            1006436                     3                      4   \n",
       "3            1006697                     2                      2   \n",
       "4            1007931                     2                      2   \n",
       "...              ...                   ...                    ...   \n",
       "5378  84685734707676                     2                      2   \n",
       "5379  86886180036074                     2                      3   \n",
       "5380  97360670554629                     2                      2   \n",
       "5381  97805007741979                     2                      5   \n",
       "5382  99262726332691                     2                      3   \n",
       "\n",
       "      returned_item_quantity  \n",
       "0                          0  \n",
       "1                          0  \n",
       "2                          0  \n",
       "3                          0  \n",
       "4                          0  \n",
       "...                      ...  \n",
       "5378                       0  \n",
       "5379                       0  \n",
       "5380                       0  \n",
       "5381                       0  \n",
       "5382                       0  \n",
       "\n",
       "[5383 rows x 4 columns]"
      ]
     },
     "execution_count": 20,
     "metadata": {},
     "output_type": "execute_result"
    }
   ],
   "source": [
    "# aggregate data per customer_id, to see ordered item sum and returned sum per customer\n",
    "returned_sum_by_customer = (positive_orders\n",
    "                         .groupby('customer_id')\n",
    "                         .returned_item_quantity.sum()\n",
    "                         .reset_index())\n",
    "ordered_sum_by_customer =  (positive_orders\n",
    "                         .groupby('customer_id')\n",
    "                         .ordered_item_quantity.sum()\n",
    "                         .reset_index())\n",
    "\n",
    "# merge two dataframes to be able to calculate unit return rate\n",
    "orders_by_customer_id = pd.merge(ordered_sum_by_customer, returned_sum_by_customer)\n",
    "\n",
    "customer_with_multiple_orders = pd.merge(customer_by_size_orders, orders_by_customer_id,\n",
    "                                        on='customer_id')\n",
    "customer_with_multiple_orders"
   ]
  },
  {
   "cell_type": "markdown",
   "metadata": {},
   "source": [
    "#### Unit return rate calculation for the identified customers"
   ]
  },
  {
   "cell_type": "code",
   "execution_count": 21,
   "metadata": {},
   "outputs": [
    {
     "name": "stdout",
     "output_type": "stream",
     "text": [
      "The unit return rate is : 0.0014\n"
     ]
    }
   ],
   "source": [
    "# to look at unit return rate for the customers ordered multiple sizes, \n",
    "# ratio of all returned items to the ordered items will be investigated\n",
    "returned_sum_multiple = float(-1 * customer_with_multiple_orders.returned_item_quantity.sum())\n",
    "\n",
    "ordered_sum_multiple = float(customer_with_multiple_orders.ordered_item_quantity.sum())\n",
    "\n",
    "unit_return_rate_multiple = returned_sum_multiple / ordered_sum_multiple\n",
    "\n",
    "print(\"The unit return rate is : \"'%.4f'%unit_return_rate_multiple)"
   ]
  },
  {
   "cell_type": "markdown",
   "metadata": {},
   "source": [
    "Looks like return rate of the company are really low in all of the 3 cases:\n",
    "\n",
    "* unit return for all customers (0.0012)\n",
    "* average return rate per order (0.0014)\n",
    "* unit return rate for customers who order multiple sizes (0.0014)"
   ]
  },
  {
   "cell_type": "markdown",
   "metadata": {},
   "source": [
    "# Does discounts drive the sales of the company (by looking at the number of sales without discount vs number of discounted sales)?"
   ]
  },
  {
   "cell_type": "code",
   "execution_count": 22,
   "metadata": {},
   "outputs": [],
   "source": [
    "sales_without_discounts = orders[orders['discounts']==0].ordered_item_quantity.sum()\n"
   ]
  },
  {
   "cell_type": "code",
   "execution_count": 23,
   "metadata": {},
   "outputs": [],
   "source": [
    "sales_with_discounts = orders[orders['discounts']<0].ordered_item_quantity.sum()\n"
   ]
  },
  {
   "cell_type": "code",
   "execution_count": 24,
   "metadata": {},
   "outputs": [
    {
     "data": {
      "text/plain": [
       "0.5790788290538516"
      ]
     },
     "execution_count": 24,
     "metadata": {},
     "output_type": "execute_result"
    }
   ],
   "source": [
    "per_sales_without_discounts = sales_without_discounts/(orders['ordered_item_quantity'].sum())\n",
    "per_sales_without_discounts"
   ]
  },
  {
   "cell_type": "code",
   "execution_count": 25,
   "metadata": {},
   "outputs": [
    {
     "data": {
      "text/plain": [
       "0.42092117094614845"
      ]
     },
     "execution_count": 25,
     "metadata": {},
     "output_type": "execute_result"
    }
   ],
   "source": [
    "per_sales_with_discounts = sales_with_discounts/(orders['ordered_item_quantity'].sum())\n",
    "per_sales_with_discounts"
   ]
  },
  {
   "cell_type": "markdown",
   "metadata": {},
   "source": [
    "from this we can say that sales with discounts are more as compared to sales without discounts"
   ]
  },
  {
   "cell_type": "markdown",
   "metadata": {},
   "source": [
    "# Does price have an affect on buying multiple items in one order?"
   ]
  },
  {
   "cell_type": "code",
   "execution_count": 26,
   "metadata": {},
   "outputs": [
    {
     "data": {
      "text/html": [
       "<div>\n",
       "<style scoped>\n",
       "    .dataframe tbody tr th:only-of-type {\n",
       "        vertical-align: middle;\n",
       "    }\n",
       "\n",
       "    .dataframe tbody tr th {\n",
       "        vertical-align: top;\n",
       "    }\n",
       "\n",
       "    .dataframe thead th {\n",
       "        text-align: right;\n",
       "    }\n",
       "</style>\n",
       "<table border=\"1\" class=\"dataframe\">\n",
       "  <thead>\n",
       "    <tr style=\"text-align: right;\">\n",
       "      <th></th>\n",
       "      <th>product_title</th>\n",
       "      <th>product_type</th>\n",
       "      <th>variant_title</th>\n",
       "      <th>variant_sku</th>\n",
       "      <th>variant_id</th>\n",
       "      <th>customer_id</th>\n",
       "      <th>order_id</th>\n",
       "      <th>day</th>\n",
       "      <th>net_quantity</th>\n",
       "      <th>gross_sales</th>\n",
       "      <th>discounts</th>\n",
       "      <th>returns</th>\n",
       "      <th>net_sales</th>\n",
       "      <th>taxes</th>\n",
       "      <th>total_sales</th>\n",
       "      <th>returned_item_quantity</th>\n",
       "      <th>ordered_item_quantity</th>\n",
       "      <th>price/item</th>\n",
       "    </tr>\n",
       "  </thead>\n",
       "  <tbody>\n",
       "    <tr>\n",
       "      <th>0</th>\n",
       "      <td>DPR</td>\n",
       "      <td>DPR</td>\n",
       "      <td>100</td>\n",
       "      <td>AD-982-708-895-F-6C894FB</td>\n",
       "      <td>52039657</td>\n",
       "      <td>1312378</td>\n",
       "      <td>83290718932496</td>\n",
       "      <td>04/12/2018</td>\n",
       "      <td>2</td>\n",
       "      <td>200.0</td>\n",
       "      <td>-200.00</td>\n",
       "      <td>0.00</td>\n",
       "      <td>0.0</td>\n",
       "      <td>0.0</td>\n",
       "      <td>0.0</td>\n",
       "      <td>0</td>\n",
       "      <td>2</td>\n",
       "      <td>100.0</td>\n",
       "    </tr>\n",
       "    <tr>\n",
       "      <th>1</th>\n",
       "      <td>RJF</td>\n",
       "      <td>Product P</td>\n",
       "      <td>28 / A / MTM</td>\n",
       "      <td>83-490-E49-8C8-8-3B100BC</td>\n",
       "      <td>56914686</td>\n",
       "      <td>3715657</td>\n",
       "      <td>36253792848113</td>\n",
       "      <td>01/04/2019</td>\n",
       "      <td>2</td>\n",
       "      <td>190.0</td>\n",
       "      <td>-190.00</td>\n",
       "      <td>0.00</td>\n",
       "      <td>0.0</td>\n",
       "      <td>0.0</td>\n",
       "      <td>0.0</td>\n",
       "      <td>0</td>\n",
       "      <td>2</td>\n",
       "      <td>95.0</td>\n",
       "    </tr>\n",
       "    <tr>\n",
       "      <th>2</th>\n",
       "      <td>CLH</td>\n",
       "      <td>Product B</td>\n",
       "      <td>32 / B / FtO</td>\n",
       "      <td>68-ECA-BC7-3B2-A-E73DE1B</td>\n",
       "      <td>24064862</td>\n",
       "      <td>9533448</td>\n",
       "      <td>73094559597229</td>\n",
       "      <td>05/11/2018</td>\n",
       "      <td>0</td>\n",
       "      <td>164.8</td>\n",
       "      <td>-156.56</td>\n",
       "      <td>-8.24</td>\n",
       "      <td>0.0</td>\n",
       "      <td>0.0</td>\n",
       "      <td>0.0</td>\n",
       "      <td>-2</td>\n",
       "      <td>2</td>\n",
       "      <td>82.4</td>\n",
       "    </tr>\n",
       "    <tr>\n",
       "      <th>3</th>\n",
       "      <td>NMA</td>\n",
       "      <td>Product F</td>\n",
       "      <td>40 / B / FtO</td>\n",
       "      <td>6C-1F1-226-1B3-2-3542B41</td>\n",
       "      <td>43823868</td>\n",
       "      <td>4121004</td>\n",
       "      <td>53616575668264</td>\n",
       "      <td>19/02/2019</td>\n",
       "      <td>1</td>\n",
       "      <td>119.0</td>\n",
       "      <td>-119.00</td>\n",
       "      <td>0.00</td>\n",
       "      <td>0.0</td>\n",
       "      <td>0.0</td>\n",
       "      <td>0.0</td>\n",
       "      <td>0</td>\n",
       "      <td>1</td>\n",
       "      <td>119.0</td>\n",
       "    </tr>\n",
       "    <tr>\n",
       "      <th>4</th>\n",
       "      <td>NMA</td>\n",
       "      <td>Product F</td>\n",
       "      <td>40 / B / FtO</td>\n",
       "      <td>6C-1F1-226-1B3-2-3542B41</td>\n",
       "      <td>43823868</td>\n",
       "      <td>4121004</td>\n",
       "      <td>29263220319421</td>\n",
       "      <td>19/02/2019</td>\n",
       "      <td>1</td>\n",
       "      <td>119.0</td>\n",
       "      <td>-119.00</td>\n",
       "      <td>0.00</td>\n",
       "      <td>0.0</td>\n",
       "      <td>0.0</td>\n",
       "      <td>0.0</td>\n",
       "      <td>0</td>\n",
       "      <td>1</td>\n",
       "      <td>119.0</td>\n",
       "    </tr>\n",
       "    <tr>\n",
       "      <th>5</th>\n",
       "      <td>OTH</td>\n",
       "      <td>Product F</td>\n",
       "      <td>40 / B / FtO</td>\n",
       "      <td>53-5CA-7CF-8F5-9-28CB78B</td>\n",
       "      <td>43823868</td>\n",
       "      <td>4121004</td>\n",
       "      <td>53616575668264</td>\n",
       "      <td>19/02/2019</td>\n",
       "      <td>1</td>\n",
       "      <td>119.0</td>\n",
       "      <td>-119.00</td>\n",
       "      <td>0.00</td>\n",
       "      <td>0.0</td>\n",
       "      <td>0.0</td>\n",
       "      <td>0.0</td>\n",
       "      <td>0</td>\n",
       "      <td>1</td>\n",
       "      <td>119.0</td>\n",
       "    </tr>\n",
       "    <tr>\n",
       "      <th>6</th>\n",
       "      <td>OTH</td>\n",
       "      <td>Product F</td>\n",
       "      <td>40 / B / FtO</td>\n",
       "      <td>53-5CA-7CF-8F5-9-28CB78B</td>\n",
       "      <td>43823868</td>\n",
       "      <td>4121004</td>\n",
       "      <td>29263220319421</td>\n",
       "      <td>19/02/2019</td>\n",
       "      <td>1</td>\n",
       "      <td>119.0</td>\n",
       "      <td>-119.00</td>\n",
       "      <td>0.00</td>\n",
       "      <td>0.0</td>\n",
       "      <td>0.0</td>\n",
       "      <td>0.0</td>\n",
       "      <td>0</td>\n",
       "      <td>1</td>\n",
       "      <td>119.0</td>\n",
       "    </tr>\n",
       "    <tr>\n",
       "      <th>7</th>\n",
       "      <td>NMA</td>\n",
       "      <td>Product F</td>\n",
       "      <td>40 / B / FtO</td>\n",
       "      <td>6C-1F1-226-1B3-2-3542B41</td>\n",
       "      <td>43823868</td>\n",
       "      <td>4121004</td>\n",
       "      <td>13666410519728</td>\n",
       "      <td>20/02/2019</td>\n",
       "      <td>1</td>\n",
       "      <td>119.0</td>\n",
       "      <td>-119.00</td>\n",
       "      <td>0.00</td>\n",
       "      <td>0.0</td>\n",
       "      <td>0.0</td>\n",
       "      <td>0.0</td>\n",
       "      <td>0</td>\n",
       "      <td>1</td>\n",
       "      <td>119.0</td>\n",
       "    </tr>\n",
       "    <tr>\n",
       "      <th>8</th>\n",
       "      <td>OTH</td>\n",
       "      <td>Product F</td>\n",
       "      <td>40 / C / FtO</td>\n",
       "      <td>8B-2C5-548-6C6-E-B5EECBC</td>\n",
       "      <td>43823868</td>\n",
       "      <td>4121004</td>\n",
       "      <td>80657249973427</td>\n",
       "      <td>22/02/2019</td>\n",
       "      <td>1</td>\n",
       "      <td>119.0</td>\n",
       "      <td>-119.00</td>\n",
       "      <td>0.00</td>\n",
       "      <td>0.0</td>\n",
       "      <td>0.0</td>\n",
       "      <td>0.0</td>\n",
       "      <td>0</td>\n",
       "      <td>1</td>\n",
       "      <td>119.0</td>\n",
       "    </tr>\n",
       "    <tr>\n",
       "      <th>9</th>\n",
       "      <td>DPR</td>\n",
       "      <td>DPR</td>\n",
       "      <td>100</td>\n",
       "      <td>AD-982-708-895-F-6C894FB</td>\n",
       "      <td>52039657</td>\n",
       "      <td>1312378</td>\n",
       "      <td>48128811961800</td>\n",
       "      <td>04/12/2018</td>\n",
       "      <td>1</td>\n",
       "      <td>100.0</td>\n",
       "      <td>-100.00</td>\n",
       "      <td>0.00</td>\n",
       "      <td>0.0</td>\n",
       "      <td>0.0</td>\n",
       "      <td>0.0</td>\n",
       "      <td>0</td>\n",
       "      <td>1</td>\n",
       "      <td>100.0</td>\n",
       "    </tr>\n",
       "  </tbody>\n",
       "</table>\n",
       "</div>"
      ],
      "text/plain": [
       "  product_title product_type variant_title               variant_sku  \\\n",
       "0           DPR          DPR           100  AD-982-708-895-F-6C894FB   \n",
       "1           RJF    Product P  28 / A / MTM  83-490-E49-8C8-8-3B100BC   \n",
       "2           CLH    Product B  32 / B / FtO  68-ECA-BC7-3B2-A-E73DE1B   \n",
       "3           NMA    Product F  40 / B / FtO  6C-1F1-226-1B3-2-3542B41   \n",
       "4           NMA    Product F  40 / B / FtO  6C-1F1-226-1B3-2-3542B41   \n",
       "5           OTH    Product F  40 / B / FtO  53-5CA-7CF-8F5-9-28CB78B   \n",
       "6           OTH    Product F  40 / B / FtO  53-5CA-7CF-8F5-9-28CB78B   \n",
       "7           NMA    Product F  40 / B / FtO  6C-1F1-226-1B3-2-3542B41   \n",
       "8           OTH    Product F  40 / C / FtO  8B-2C5-548-6C6-E-B5EECBC   \n",
       "9           DPR          DPR           100  AD-982-708-895-F-6C894FB   \n",
       "\n",
       "   variant_id  customer_id        order_id         day  net_quantity  \\\n",
       "0    52039657      1312378  83290718932496  04/12/2018             2   \n",
       "1    56914686      3715657  36253792848113  01/04/2019             2   \n",
       "2    24064862      9533448  73094559597229  05/11/2018             0   \n",
       "3    43823868      4121004  53616575668264  19/02/2019             1   \n",
       "4    43823868      4121004  29263220319421  19/02/2019             1   \n",
       "5    43823868      4121004  53616575668264  19/02/2019             1   \n",
       "6    43823868      4121004  29263220319421  19/02/2019             1   \n",
       "7    43823868      4121004  13666410519728  20/02/2019             1   \n",
       "8    43823868      4121004  80657249973427  22/02/2019             1   \n",
       "9    52039657      1312378  48128811961800  04/12/2018             1   \n",
       "\n",
       "   gross_sales  discounts  returns  net_sales  taxes  total_sales  \\\n",
       "0        200.0    -200.00     0.00        0.0    0.0          0.0   \n",
       "1        190.0    -190.00     0.00        0.0    0.0          0.0   \n",
       "2        164.8    -156.56    -8.24        0.0    0.0          0.0   \n",
       "3        119.0    -119.00     0.00        0.0    0.0          0.0   \n",
       "4        119.0    -119.00     0.00        0.0    0.0          0.0   \n",
       "5        119.0    -119.00     0.00        0.0    0.0          0.0   \n",
       "6        119.0    -119.00     0.00        0.0    0.0          0.0   \n",
       "7        119.0    -119.00     0.00        0.0    0.0          0.0   \n",
       "8        119.0    -119.00     0.00        0.0    0.0          0.0   \n",
       "9        100.0    -100.00     0.00        0.0    0.0          0.0   \n",
       "\n",
       "   returned_item_quantity  ordered_item_quantity  price/item  \n",
       "0                       0                      2       100.0  \n",
       "1                       0                      2        95.0  \n",
       "2                      -2                      2        82.4  \n",
       "3                       0                      1       119.0  \n",
       "4                       0                      1       119.0  \n",
       "5                       0                      1       119.0  \n",
       "6                       0                      1       119.0  \n",
       "7                       0                      1       119.0  \n",
       "8                       0                      1       119.0  \n",
       "9                       0                      1       100.0  "
      ]
     },
     "execution_count": 26,
     "metadata": {},
     "output_type": "execute_result"
    }
   ],
   "source": [
    "orders['price/item'] = orders['gross_sales'] / orders['ordered_item_quantity']\n",
    "orders.head(10)"
   ]
  },
  {
   "cell_type": "code",
   "execution_count": 27,
   "metadata": {},
   "outputs": [],
   "source": [
    "orders_without_nulls = orders.dropna(axis=0)  # since price/item has NaN values for we will remove those columns"
   ]
  },
  {
   "cell_type": "code",
   "execution_count": 28,
   "metadata": {},
   "outputs": [
    {
     "data": {
      "text/plain": [
       "(70052, 18)"
      ]
     },
     "execution_count": 28,
     "metadata": {},
     "output_type": "execute_result"
    }
   ],
   "source": [
    "orders.shape"
   ]
  },
  {
   "cell_type": "code",
   "execution_count": 29,
   "metadata": {},
   "outputs": [
    {
     "data": {
      "text/plain": [
       "(59337, 18)"
      ]
     },
     "execution_count": 29,
     "metadata": {},
     "output_type": "execute_result"
    }
   ],
   "source": [
    "orders_without_nulls.shape"
   ]
  },
  {
   "cell_type": "code",
   "execution_count": 30,
   "metadata": {},
   "outputs": [
    {
     "data": {
      "text/plain": [
       "79.165"
      ]
     },
     "execution_count": 30,
     "metadata": {},
     "output_type": "execute_result"
    }
   ],
   "source": [
    "frame = orders_without_nulls[['ordered_item_quantity','price/item']].sort_values(by='price/item')\n",
    "frame[frame['ordered_item_quantity']>1]['price/item'].mode()[0]"
   ]
  },
  {
   "cell_type": "code",
   "execution_count": 31,
   "metadata": {},
   "outputs": [
    {
     "data": {
      "image/png": "[encoded data removed]",
      "text/plain": [
       "<Figure size 432x288 with 1 Axes>"
      ]
     },
     "metadata": {
      "image/png": {
       "height": 256,
       "width": 367
      }
     },
     "output_type": "display_data"
    }
   ],
   "source": [
    "plt.plot(frame['price/item'], frame['ordered_item_quantity'])\n",
    "plt.xticks(np.arange(frame['price/item'].min() , frame['price/item'].max(), step=20));"
   ]
  },
  {
   "cell_type": "markdown",
   "metadata": {},
   "source": [
    "Lower price range (25-104$) products are purchased"
   ]
  },
  {
   "cell_type": "code",
   "execution_count": null,
   "metadata": {},
   "outputs": [],
   "source": []
  }
 ],
 "metadata": {
  "kernelspec": {
   "display_name": "Python 3",
   "language": "python",
   "name": "python3"
  },
  "language_info": {
   "codemirror_mode": {
    "name": "ipython",
    "version": 3
   },
   "file_extension": ".py",
   "mimetype": "text/x-python",
   "name": "python",
   "nbconvert_exporter": "python",
   "pygments_lexer": "ipython3",
   "version": "3.7.6"
  }
 },
 "nbformat": 4,
 "nbformat_minor": 4
}
